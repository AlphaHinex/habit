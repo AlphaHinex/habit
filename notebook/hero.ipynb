{
 "cells": [
  {
   "cell_type": "code",
   "execution_count": 42,
   "metadata": {
    "collapsed": true,
    "ExecuteTime": {
     "end_time": "2024-02-16T11:12:19.540777Z",
     "start_time": "2024-02-16T11:12:03.906480Z"
    }
   },
   "outputs": [
    {
     "name": "stdout",
     "output_type": "stream",
     "text": [
      "恭喜你答对了\n"
     ]
    }
   ],
   "source": [
    "from fractions import Fraction\n",
    "import random\n",
    "\n",
    "formula = []\n",
    "\n",
    "fraction_num = random.choice([2,3])\n",
    "operators = '+-*÷'\n",
    "\n",
    "def r():\n",
    "    return random.randrange(1,10)\n",
    "def f():\n",
    "    return Fraction(r(), r())\n",
    "def d():\n",
    "    return format(f(), '.2f')\n",
    "def o():\n",
    "    return operators[random.randint(0,3)]\n",
    "\n",
    "for i in range(fraction_num):\n",
    "    formula.append(f())\n",
    "    formula.append(o())\n",
    "formula.pop()\n",
    "\n",
    "def operate(left, mid, right):\n",
    "    if mid == '+':\n",
    "        return left + right\n",
    "    elif mid == '-':\n",
    "        return left - right\n",
    "    elif mid == '*':\n",
    "        return left * right\n",
    "    elif mid == '÷':\n",
    "        return left / right\n",
    "\n",
    "result = 0\n",
    "if len(formula) == 5:\n",
    "    if formula[3] == '*' or formula[3] == '/':\n",
    "        result = operate(formula[2], formula[3], formula[4])\n",
    "        result = operate(formula[0], formula[1], result)\n",
    "    else:\n",
    "        result = operate(formula[0], formula[1], formula[2])\n",
    "        result = operate(result, formula[3], formula[4])\n",
    "else:\n",
    "    result = operate(formula[0], formula[1], formula[2])\n",
    "\n",
    "prompt = ''\n",
    "for i in range(len(formula)):\n",
    "    prompt += f'%s ' % formula[i]\n",
    "\n",
    "r = input('%s=' % prompt)\n",
    "if r == str(result):\n",
    "    print('恭喜你答对了')\n",
    "else:\n",
    "    print('正确答案是：%s=%s' % (prompt, result))\n",
    "\n",
    "# print(Fraction.from_float(eval('56/19 - 3/4 * 13/19'))"
   ]
  }
 ],
 "metadata": {
  "kernelspec": {
   "display_name": "Python 3",
   "language": "python",
   "name": "python3"
  },
  "language_info": {
   "codemirror_mode": {
    "name": "ipython",
    "version": 2
   },
   "file_extension": ".py",
   "mimetype": "text/x-python",
   "name": "python",
   "nbconvert_exporter": "python",
   "pygments_lexer": "ipython2",
   "version": "2.7.6"
  }
 },
 "nbformat": 4,
 "nbformat_minor": 0
}
