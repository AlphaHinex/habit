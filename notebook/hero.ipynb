{
 "cells": [
  {
   "cell_type": "code",
   "execution_count": 8,
   "metadata": {
    "collapsed": true,
    "ExecuteTime": {
     "end_time": "2024-02-17T12:51:37.296540Z",
     "start_time": "2024-02-17T12:51:29.812306Z"
    }
   },
   "outputs": [
    {
     "name": "stdout",
     "output_type": "stream",
     "text": [
      "（0）恭喜你答对了\n",
      "（1）正确答案是：6/5 ÷ 3/2 + 5/2 =33/10\n",
      "（2）正确答案是：3 + 8/9 + 8/7 =317/63\n",
      "（3）正确答案是：3/4 + 7/4 + 7/3 =29/6\n",
      "（4）正确答案是：5/8 - 4/3 =-17/24\n",
      "正确率为 20.0%（1/5）\n"
     ]
    }
   ],
   "source": [
    "from fractions import Fraction\n",
    "import random\n",
    "\n",
    "operators = '+-*÷'\n",
    "\n",
    "def r():\n",
    "    return random.randrange(1,10)\n",
    "def f():\n",
    "    return Fraction(r(), r())\n",
    "def d():\n",
    "    return format(f(), '.2f')\n",
    "def o():\n",
    "    return operators[random.randint(0,3)]\n",
    "\n",
    "def operate(left, mid, right):\n",
    "    if mid == '+':\n",
    "        return left + right\n",
    "    elif mid == '-':\n",
    "        return left - right\n",
    "    elif mid == '*':\n",
    "        return left * right\n",
    "    elif mid == '÷':\n",
    "        return left / right\n",
    "\n",
    "right = 0\n",
    "wrong = 0\n",
    "def give_me_one(idx):\n",
    "    formula = []\n",
    "\n",
    "    fraction_num = random.choice([2,3])\n",
    "\n",
    "    for i in range(fraction_num):\n",
    "        formula.append(f())\n",
    "        formula.append(o())\n",
    "    formula.pop()\n",
    "\n",
    "    result = 0\n",
    "    if len(formula) == 5:\n",
    "        if formula[3] == '*' or formula[3] == '/':\n",
    "            result = operate(formula[2], formula[3], formula[4])\n",
    "            result = operate(formula[0], formula[1], result)\n",
    "        else:\n",
    "            result = operate(formula[0], formula[1], formula[2])\n",
    "            result = operate(result, formula[3], formula[4])\n",
    "    else:\n",
    "        result = operate(formula[0], formula[1], formula[2])\n",
    "\n",
    "    prompt = ''\n",
    "    for i in range(len(formula)):\n",
    "        prompt += f'%s ' % formula[i]\n",
    "\n",
    "    r = input('%s=' % prompt)\n",
    "    if r == str(result):\n",
    "        print('（%d）恭喜你答对了! %s=%s' % (idx, prompt, result))\n",
    "        global right\n",
    "        right += 1\n",
    "    else:\n",
    "        print('（%d）正确答案是：%s=%s' % (idx, prompt, result))\n",
    "        global wrong\n",
    "        wrong += 1\n",
    "\n",
    "numbers = 10\n",
    "for i in range(numbers):\n",
    "    give_me_one(i)\n",
    "print('正确率为 %s%%（%d/%d）' % (round(right/numbers*100, 2), right, numbers))"
   ]
  }
 ],
 "metadata": {
  "kernelspec": {
   "display_name": "Python 3",
   "language": "python",
   "name": "python3"
  },
  "language_info": {
   "codemirror_mode": {
    "name": "ipython",
    "version": 2
   },
   "file_extension": ".py",
   "mimetype": "text/x-python",
   "name": "python",
   "nbconvert_exporter": "python",
   "pygments_lexer": "ipython2",
   "version": "2.7.6"
  }
 },
 "nbformat": 4,
 "nbformat_minor": 0
}
